{
  "nbformat": 4,
  "nbformat_minor": 5,
  "metadata": {
    "colab": {
      "provenance": [],
      "gpuType": "T4",
      "include_colab_link": true
    },
    "language_info": {
      "name": "python"
    },
    "kernelspec": {
      "name": "python3",
      "display_name": "Python 3"
    },
    "accelerator": "GPU",
    "widgets": {
      "application/vnd.jupyter.widget-state+json": {
        "fbd3b33aeecf4ab392678cde1ee663d3": {
          "model_module": "@jupyter-widgets/controls",
          "model_name": "HBoxModel",
          "model_module_version": "1.5.0",
          "state": {
            "_dom_classes": [],
            "_model_module": "@jupyter-widgets/controls",
            "_model_module_version": "1.5.0",
            "_model_name": "HBoxModel",
            "_view_count": null,
            "_view_module": "@jupyter-widgets/controls",
            "_view_module_version": "1.5.0",
            "_view_name": "HBoxView",
            "box_style": "",
            "children": [
              "IPY_MODEL_9e5b501df1e04727b6d00526f2ec4858",
              "IPY_MODEL_a748d4f262814e27b8d8a02a5ac86448",
              "IPY_MODEL_f94c19e05fe541fb92ef46aa64df7a64"
            ],
            "layout": "IPY_MODEL_4ec79789637b4c538ff6b005b3651224"
          }
        },
        "9e5b501df1e04727b6d00526f2ec4858": {
          "model_module": "@jupyter-widgets/controls",
          "model_name": "HTMLModel",
          "model_module_version": "1.5.0",
          "state": {
            "_dom_classes": [],
            "_model_module": "@jupyter-widgets/controls",
            "_model_module_version": "1.5.0",
            "_model_name": "HTMLModel",
            "_view_count": null,
            "_view_module": "@jupyter-widgets/controls",
            "_view_module_version": "1.5.0",
            "_view_name": "HTMLView",
            "description": "",
            "description_tooltip": null,
            "layout": "IPY_MODEL_2fa503c5904e492f8c3486869eaa51cc",
            "placeholder": "​",
            "style": "IPY_MODEL_defd096383864accb576fa23f8fd3b15",
            "value": "Llama-3.2-3B-Instruct-Q4_K_M.gguf: 100%"
          }
        },
        "a748d4f262814e27b8d8a02a5ac86448": {
          "model_module": "@jupyter-widgets/controls",
          "model_name": "FloatProgressModel",
          "model_module_version": "1.5.0",
          "state": {
            "_dom_classes": [],
            "_model_module": "@jupyter-widgets/controls",
            "_model_module_version": "1.5.0",
            "_model_name": "FloatProgressModel",
            "_view_count": null,
            "_view_module": "@jupyter-widgets/controls",
            "_view_module_version": "1.5.0",
            "_view_name": "ProgressView",
            "bar_style": "success",
            "description": "",
            "description_tooltip": null,
            "layout": "IPY_MODEL_9517e0abe6414e4d9148e30be0240114",
            "max": 2019377696,
            "min": 0,
            "orientation": "horizontal",
            "style": "IPY_MODEL_8273b2bd724e42b8a32e30ab5fbbdf04",
            "value": 2019377696
          }
        },
        "f94c19e05fe541fb92ef46aa64df7a64": {
          "model_module": "@jupyter-widgets/controls",
          "model_name": "HTMLModel",
          "model_module_version": "1.5.0",
          "state": {
            "_dom_classes": [],
            "_model_module": "@jupyter-widgets/controls",
            "_model_module_version": "1.5.0",
            "_model_name": "HTMLModel",
            "_view_count": null,
            "_view_module": "@jupyter-widgets/controls",
            "_view_module_version": "1.5.0",
            "_view_name": "HTMLView",
            "description": "",
            "description_tooltip": null,
            "layout": "IPY_MODEL_015ccff9dd2342288fad6bbc5cfe43a9",
            "placeholder": "​",
            "style": "IPY_MODEL_c329e5c55a424bdc8b24462c565dcb17",
            "value": " 2.02G/2.02G [00:37&lt;00:00, 130MB/s]"
          }
        },
        "4ec79789637b4c538ff6b005b3651224": {
          "model_module": "@jupyter-widgets/base",
          "model_name": "LayoutModel",
          "model_module_version": "1.2.0",
          "state": {
            "_model_module": "@jupyter-widgets/base",
            "_model_module_version": "1.2.0",
            "_model_name": "LayoutModel",
            "_view_count": null,
            "_view_module": "@jupyter-widgets/base",
            "_view_module_version": "1.2.0",
            "_view_name": "LayoutView",
            "align_content": null,
            "align_items": null,
            "align_self": null,
            "border": null,
            "bottom": null,
            "display": null,
            "flex": null,
            "flex_flow": null,
            "grid_area": null,
            "grid_auto_columns": null,
            "grid_auto_flow": null,
            "grid_auto_rows": null,
            "grid_column": null,
            "grid_gap": null,
            "grid_row": null,
            "grid_template_areas": null,
            "grid_template_columns": null,
            "grid_template_rows": null,
            "height": null,
            "justify_content": null,
            "justify_items": null,
            "left": null,
            "margin": null,
            "max_height": null,
            "max_width": null,
            "min_height": null,
            "min_width": null,
            "object_fit": null,
            "object_position": null,
            "order": null,
            "overflow": null,
            "overflow_x": null,
            "overflow_y": null,
            "padding": null,
            "right": null,
            "top": null,
            "visibility": null,
            "width": null
          }
        },
        "2fa503c5904e492f8c3486869eaa51cc": {
          "model_module": "@jupyter-widgets/base",
          "model_name": "LayoutModel",
          "model_module_version": "1.2.0",
          "state": {
            "_model_module": "@jupyter-widgets/base",
            "_model_module_version": "1.2.0",
            "_model_name": "LayoutModel",
            "_view_count": null,
            "_view_module": "@jupyter-widgets/base",
            "_view_module_version": "1.2.0",
            "_view_name": "LayoutView",
            "align_content": null,
            "align_items": null,
            "align_self": null,
            "border": null,
            "bottom": null,
            "display": null,
            "flex": null,
            "flex_flow": null,
            "grid_area": null,
            "grid_auto_columns": null,
            "grid_auto_flow": null,
            "grid_auto_rows": null,
            "grid_column": null,
            "grid_gap": null,
            "grid_row": null,
            "grid_template_areas": null,
            "grid_template_columns": null,
            "grid_template_rows": null,
            "height": null,
            "justify_content": null,
            "justify_items": null,
            "left": null,
            "margin": null,
            "max_height": null,
            "max_width": null,
            "min_height": null,
            "min_width": null,
            "object_fit": null,
            "object_position": null,
            "order": null,
            "overflow": null,
            "overflow_x": null,
            "overflow_y": null,
            "padding": null,
            "right": null,
            "top": null,
            "visibility": null,
            "width": null
          }
        },
        "defd096383864accb576fa23f8fd3b15": {
          "model_module": "@jupyter-widgets/controls",
          "model_name": "DescriptionStyleModel",
          "model_module_version": "1.5.0",
          "state": {
            "_model_module": "@jupyter-widgets/controls",
            "_model_module_version": "1.5.0",
            "_model_name": "DescriptionStyleModel",
            "_view_count": null,
            "_view_module": "@jupyter-widgets/base",
            "_view_module_version": "1.2.0",
            "_view_name": "StyleView",
            "description_width": ""
          }
        },
        "9517e0abe6414e4d9148e30be0240114": {
          "model_module": "@jupyter-widgets/base",
          "model_name": "LayoutModel",
          "model_module_version": "1.2.0",
          "state": {
            "_model_module": "@jupyter-widgets/base",
            "_model_module_version": "1.2.0",
            "_model_name": "LayoutModel",
            "_view_count": null,
            "_view_module": "@jupyter-widgets/base",
            "_view_module_version": "1.2.0",
            "_view_name": "LayoutView",
            "align_content": null,
            "align_items": null,
            "align_self": null,
            "border": null,
            "bottom": null,
            "display": null,
            "flex": null,
            "flex_flow": null,
            "grid_area": null,
            "grid_auto_columns": null,
            "grid_auto_flow": null,
            "grid_auto_rows": null,
            "grid_column": null,
            "grid_gap": null,
            "grid_row": null,
            "grid_template_areas": null,
            "grid_template_columns": null,
            "grid_template_rows": null,
            "height": null,
            "justify_content": null,
            "justify_items": null,
            "left": null,
            "margin": null,
            "max_height": null,
            "max_width": null,
            "min_height": null,
            "min_width": null,
            "object_fit": null,
            "object_position": null,
            "order": null,
            "overflow": null,
            "overflow_x": null,
            "overflow_y": null,
            "padding": null,
            "right": null,
            "top": null,
            "visibility": null,
            "width": null
          }
        },
        "8273b2bd724e42b8a32e30ab5fbbdf04": {
          "model_module": "@jupyter-widgets/controls",
          "model_name": "ProgressStyleModel",
          "model_module_version": "1.5.0",
          "state": {
            "_model_module": "@jupyter-widgets/controls",
            "_model_module_version": "1.5.0",
            "_model_name": "ProgressStyleModel",
            "_view_count": null,
            "_view_module": "@jupyter-widgets/base",
            "_view_module_version": "1.2.0",
            "_view_name": "StyleView",
            "bar_color": null,
            "description_width": ""
          }
        },
        "015ccff9dd2342288fad6bbc5cfe43a9": {
          "model_module": "@jupyter-widgets/base",
          "model_name": "LayoutModel",
          "model_module_version": "1.2.0",
          "state": {
            "_model_module": "@jupyter-widgets/base",
            "_model_module_version": "1.2.0",
            "_model_name": "LayoutModel",
            "_view_count": null,
            "_view_module": "@jupyter-widgets/base",
            "_view_module_version": "1.2.0",
            "_view_name": "LayoutView",
            "align_content": null,
            "align_items": null,
            "align_self": null,
            "border": null,
            "bottom": null,
            "display": null,
            "flex": null,
            "flex_flow": null,
            "grid_area": null,
            "grid_auto_columns": null,
            "grid_auto_flow": null,
            "grid_auto_rows": null,
            "grid_column": null,
            "grid_gap": null,
            "grid_row": null,
            "grid_template_areas": null,
            "grid_template_columns": null,
            "grid_template_rows": null,
            "height": null,
            "justify_content": null,
            "justify_items": null,
            "left": null,
            "margin": null,
            "max_height": null,
            "max_width": null,
            "min_height": null,
            "min_width": null,
            "object_fit": null,
            "object_position": null,
            "order": null,
            "overflow": null,
            "overflow_x": null,
            "overflow_y": null,
            "padding": null,
            "right": null,
            "top": null,
            "visibility": null,
            "width": null
          }
        },
        "c329e5c55a424bdc8b24462c565dcb17": {
          "model_module": "@jupyter-widgets/controls",
          "model_name": "DescriptionStyleModel",
          "model_module_version": "1.5.0",
          "state": {
            "_model_module": "@jupyter-widgets/controls",
            "_model_module_version": "1.5.0",
            "_model_name": "DescriptionStyleModel",
            "_view_count": null,
            "_view_module": "@jupyter-widgets/base",
            "_view_module_version": "1.2.0",
            "_view_name": "StyleView",
            "description_width": ""
          }
        }
      }
    }
  },
  "cells": [
    {
      "cell_type": "markdown",
      "metadata": {
        "id": "view-in-github",
        "colab_type": "text"
      },
      "source": [
        "<a href=\"https://colab.research.google.com/github/madhupathy/PGP-GABA-UTA-JUL25/blob/main/Medical_Assistant_RAG_FullCode_Starter.ipynb\" target=\"_parent\"><img src=\"https://colab.research.google.com/assets/colab-badge.svg\" alt=\"Open In Colab\"/></a>"
      ]
    },
    {
      "id": "1681c26c",
      "cell_type": "markdown",
      "source": [
        "# Medical Assistant (RAG) — Full‑Code Starter\n",
        "\n",
        "**Goal:** Answer clinical questions using a Retrieval‑Augmented Generation (RAG) pipeline over the Merck Manual PDF. This notebook covers installs, GPU check, data ingestion, embeddings + FAISS, prompt‑sweeps, RAG QA, and evaluation.\n",
        "\n",
        "**Submission:** Export to HTML at the end.\n",
        "\n",
        "> ⚠️ Educational use only. Not a substitute for professional medical advice.\n"
      ],
      "metadata": {
        "id": "1681c26c"
      }
    },
    {
      "id": "7f2d2046",
      "cell_type": "markdown",
      "source": [
        "## 0) Runtime & Setup (Colab)\n",
        "- *Runtime → Change runtime type → GPU (T4 recommended)*\n",
        "- If CUDA errors occur, re‑select GPU and **Restart runtime**."
      ],
      "metadata": {
        "id": "7f2d2046"
      }
    },
    {
      "id": "132f88fd",
      "cell_type": "code",
      "metadata": {
        "colab": {
          "base_uri": "https://localhost:8080/"
        },
        "id": "132f88fd",
        "outputId": "5a3a0f5e-caed-403e-ef81-3fe47f7a45cb"
      },
      "execution_count": 2,
      "source": [
        "# Check GPU\n",
        "!nvidia-smi\n",
        "\n",
        "# Ensure CUDA wheels (Colab often has them, this makes it explicit)\n",
        "!pip -q install --upgrade \"torch==2.3.1+cu121\" \"torchvision==0.18.1+cu121\" --index-url https://download.pytorch.org/whl/cu121\n",
        "\n",
        "import torch; print(\"CUDA available:\", torch.cuda.is_available())\n",
        "\n",
        "# Re-init SentenceTransformer on GPU\n",
        "from sentence_transformers import SentenceTransformer\n",
        "embedder = SentenceTransformer('sentence-transformers/all-MiniLM-L6-v2', device='cuda')\n"
      ],
      "outputs": [
        {
          "output_type": "stream",
          "name": "stdout",
          "text": [
            "Fri Sep 26 02:40:00 2025       \n",
            "+-----------------------------------------------------------------------------------------+\n",
            "| NVIDIA-SMI 550.54.15              Driver Version: 550.54.15      CUDA Version: 12.4     |\n",
            "|-----------------------------------------+------------------------+----------------------+\n",
            "| GPU  Name                 Persistence-M | Bus-Id          Disp.A | Volatile Uncorr. ECC |\n",
            "| Fan  Temp   Perf          Pwr:Usage/Cap |           Memory-Usage | GPU-Util  Compute M. |\n",
            "|                                         |                        |               MIG M. |\n",
            "|=========================================+========================+======================|\n",
            "|   0  Tesla T4                       Off |   00000000:00:04.0 Off |                    0 |\n",
            "| N/A   41C    P0             27W /   70W |     206MiB /  15360MiB |      0%      Default |\n",
            "|                                         |                        |                  N/A |\n",
            "+-----------------------------------------+------------------------+----------------------+\n",
            "                                                                                         \n",
            "+-----------------------------------------------------------------------------------------+\n",
            "| Processes:                                                                              |\n",
            "|  GPU   GI   CI        PID   Type   Process name                              GPU Memory |\n",
            "|        ID   ID                                                               Usage      |\n",
            "|=========================================================================================|\n",
            "+-----------------------------------------------------------------------------------------+\n",
            "CUDA available: True\n"
          ]
        }
      ]
    },
    {
      "id": "b37fcbf7",
      "cell_type": "markdown",
      "source": [
        "## 1) Installs"
      ],
      "metadata": {
        "id": "b37fcbf7"
      }
    },
    {
      "id": "83b0e013",
      "cell_type": "code",
      "metadata": {
        "colab": {
          "base_uri": "https://localhost:8080/"
        },
        "id": "83b0e013",
        "outputId": "bcaf8477-5d61-46ba-bb1a-37b9a1e732a5"
      },
      "execution_count": 3,
      "source": [
        "#@title Install libraries (may take a few minutes)\n",
        "!pip -q install --upgrade pip\n",
        "!pip -q install faiss-cpu sentence-transformers pypdf langchain langchain-community langchain-text-splitters\n",
        "!pip -q install llama-cpp-python==0.2.90  # works well on Colab T4; adjust if needed\n",
        "# Optional: reranker\n",
        "!pip -q install FlagEmbedding                    # BGE reranker\n"
      ],
      "outputs": [
        {
          "output_type": "stream",
          "name": "stdout",
          "text": [
            "\u001b[?25l   \u001b[90m━━━━━━━━━━━━━━━━━━━━━━━━━━━━━━━━━━━━━━━━\u001b[0m \u001b[32m0.0/1.8 MB\u001b[0m \u001b[31m?\u001b[0m eta \u001b[36m-:--:--\u001b[0m\r\u001b[2K   \u001b[91m━━━━━━━━━━━━━━━━━━━━━━━━━━━━━━━━━━━━━━━\u001b[0m\u001b[91m╸\u001b[0m \u001b[32m1.8/1.8 MB\u001b[0m \u001b[31m72.9 MB/s\u001b[0m eta \u001b[36m0:00:01\u001b[0m\r\u001b[2K   \u001b[90m━━━━━━━━━━━━━━━━━━━━━━━━━━━━━━━━━━━━━━━━\u001b[0m \u001b[32m1.8/1.8 MB\u001b[0m \u001b[31m46.5 MB/s\u001b[0m eta \u001b[36m0:00:00\u001b[0m\n",
            "\u001b[?25h\u001b[31mERROR: pip's dependency resolver does not currently take into account all the packages that are installed. This behaviour is the source of the following dependency conflicts.\n",
            "google-colab 1.0.0 requires requests==2.32.4, but you have requests 2.32.5 which is incompatible.\u001b[0m\u001b[31m\n",
            "\u001b[0m  Installing build dependencies ... \u001b[?25l\u001b[?25hdone\n",
            "  Getting requirements to build wheel ... \u001b[?25l\u001b[?25hdone\n",
            "  Installing backend dependencies ... \u001b[?25l\u001b[?25hdone\n",
            "  Preparing metadata (pyproject.toml) ... \u001b[?25l\u001b[?25hdone\n",
            "  Building wheel for llama-cpp-python (pyproject.toml) ... \u001b[?25l\u001b[?25hdone\n",
            "  Preparing metadata (setup.py) ... \u001b[?25l\u001b[?25hdone\n",
            "  Preparing metadata (setup.py) ... \u001b[?25l\u001b[?25hdone\n",
            "  Preparing metadata (setup.py) ... \u001b[?25l\u001b[?25hdone\n",
            "\u001b[33m  DEPRECATION: Building 'FlagEmbedding' using the legacy setup.py bdist_wheel mechanism, which will be removed in a future version. pip 25.3 will enforce this behaviour change. A possible replacement is to use the standardized build interface by setting the `--use-pep517` option, (possibly combined with `--no-build-isolation`), or adding a `pyproject.toml` file to the source tree of 'FlagEmbedding'. Discussion can be found at https://github.com/pypa/pip/issues/6334\u001b[0m\u001b[33m\n",
            "\u001b[0m  Building wheel for FlagEmbedding (setup.py) ... \u001b[?25l\u001b[?25hdone\n",
            "\u001b[33m  DEPRECATION: Building 'cbor' using the legacy setup.py bdist_wheel mechanism, which will be removed in a future version. pip 25.3 will enforce this behaviour change. A possible replacement is to use the standardized build interface by setting the `--use-pep517` option, (possibly combined with `--no-build-isolation`), or adding a `pyproject.toml` file to the source tree of 'cbor'. Discussion can be found at https://github.com/pypa/pip/issues/6334\u001b[0m\u001b[33m\n",
            "\u001b[0m  Building wheel for cbor (setup.py) ... \u001b[?25l\u001b[?25hdone\n",
            "\u001b[33m  DEPRECATION: Building 'warc3-wet-clueweb09' using the legacy setup.py bdist_wheel mechanism, which will be removed in a future version. pip 25.3 will enforce this behaviour change. A possible replacement is to use the standardized build interface by setting the `--use-pep517` option, (possibly combined with `--no-build-isolation`), or adding a `pyproject.toml` file to the source tree of 'warc3-wet-clueweb09'. Discussion can be found at https://github.com/pypa/pip/issues/6334\u001b[0m\u001b[33m\n",
            "\u001b[0m  Building wheel for warc3-wet-clueweb09 (setup.py) ... \u001b[?25l\u001b[?25hdone\n"
          ]
        }
      ]
    },
    {
      "id": "f5a21df5",
      "cell_type": "markdown",
      "source": [
        "## 2) Configuration"
      ],
      "metadata": {
        "id": "f5a21df5"
      }
    },
    {
      "id": "d5217574",
      "cell_type": "code",
      "metadata": {
        "colab": {
          "base_uri": "https://localhost:8080/",
          "height": 138,
          "referenced_widgets": [
            "fbd3b33aeecf4ab392678cde1ee663d3",
            "9e5b501df1e04727b6d00526f2ec4858",
            "a748d4f262814e27b8d8a02a5ac86448",
            "f94c19e05fe541fb92ef46aa64df7a64",
            "4ec79789637b4c538ff6b005b3651224",
            "2fa503c5904e492f8c3486869eaa51cc",
            "defd096383864accb576fa23f8fd3b15",
            "9517e0abe6414e4d9148e30be0240114",
            "8273b2bd724e42b8a32e30ab5fbbdf04",
            "015ccff9dd2342288fad6bbc5cfe43a9",
            "c329e5c55a424bdc8b24462c565dcb17"
          ]
        },
        "id": "d5217574",
        "outputId": "b8867a2a-76f4-4318-be9d-2775257dc6ce"
      },
      "execution_count": 4,
      "source": [
        "#@title Configuration\n",
        "from pathlib import Path\n",
        "PDF_PATH = Path('/content/medical_diagnosis_manual.pdf')\n",
        "EMBED_MODEL_NAME = 'sentence-transformers/all-MiniLM-L6-v2'\n",
        "FAISS_DIR = Path('/content/faiss_index')\n",
        "FAISS_DIR.mkdir(exist_ok=True, parents=True)\n",
        "\n",
        "# LLM config (llama-cpp); alternatively, plug in OpenAI etc.\n",
        "LLAMA_MODEL_PATH = '/content/llama-3.2-3b-instruct.Q4_K_M.gguf'\n",
        "TEMPERATURE = 0.2\n",
        "MAX_TOKENS = 1024\n",
        "TOP_P = 0.95\n",
        "TOP_K = 40\n",
        "\n",
        "!pip -q install -U huggingface_hub\n",
        "from huggingface_hub import hf_hub_download\n",
        "\n",
        "MODEL_REPO = \"bartowski/Llama-3.2-3B-Instruct-GGUF\"\n",
        "FILENAME   = \"Llama-3.2-3B-Instruct-Q4_K_M.gguf\"\n",
        "\n",
        "local_path = hf_hub_download(repo_id=MODEL_REPO, filename=FILENAME, local_dir=\"/content\", local_dir_use_symlinks=False)\n",
        "print(\"Saved to:\", local_path)\n"
      ],
      "outputs": [
        {
          "output_type": "stream",
          "name": "stderr",
          "text": [
            "/usr/local/lib/python3.12/dist-packages/huggingface_hub/file_download.py:982: UserWarning: `local_dir_use_symlinks` parameter is deprecated and will be ignored. The process to download files to a local folder has been updated and do not rely on symlinks anymore. You only need to pass a destination folder as`local_dir`.\n",
            "For more details, check out https://huggingface.co/docs/huggingface_hub/main/en/guides/download#download-files-to-local-folder.\n",
            "  warnings.warn(\n"
          ]
        },
        {
          "output_type": "display_data",
          "data": {
            "text/plain": [
              "Llama-3.2-3B-Instruct-Q4_K_M.gguf:   0%|          | 0.00/2.02G [00:00<?, ?B/s]"
            ],
            "application/vnd.jupyter.widget-view+json": {
              "version_major": 2,
              "version_minor": 0,
              "model_id": "fbd3b33aeecf4ab392678cde1ee663d3"
            }
          },
          "metadata": {}
        },
        {
          "output_type": "stream",
          "name": "stdout",
          "text": [
            "Saved to: /content/Llama-3.2-3B-Instruct-Q4_K_M.gguf\n"
          ]
        }
      ]
    },
    {
      "id": "80151b6b",
      "cell_type": "markdown",
      "source": [
        "## 3) Load & Chunk PDF"
      ],
      "metadata": {
        "id": "80151b6b"
      }
    },
    {
      "id": "ab8e08c4",
      "cell_type": "code",
      "metadata": {
        "id": "ab8e08c4"
      },
      "execution_count": null,
      "source": [
        "#@title Load PDF and chunk\n",
        "from langchain_community.document_loaders import PyPDFLoader\n",
        "from langchain_text_splitters import RecursiveCharacterTextSplitter\n",
        "\n",
        "assert PDF_PATH.exists(), f\"Upload your PDF to {PDF_PATH}\"\n",
        "loader = PyPDFLoader(str(PDF_PATH))\n",
        "docs = loader.load()\n",
        "print(f\"Pages loaded: {len(docs)}\")\n",
        "\n",
        "splitter = RecursiveCharacterTextSplitter(chunk_size=1200, chunk_overlap=150)\n",
        "chunks = splitter.split_documents(docs)\n",
        "print(f\"Chunks: {len(chunks)} (size≈1200, overlap=150)\")\n"
      ],
      "outputs": []
    },
    {
      "id": "3472aab8",
      "cell_type": "markdown",
      "source": [
        "## 4) Embeddings & FAISS"
      ],
      "metadata": {
        "id": "3472aab8"
      }
    },
    {
      "id": "6a9e0fff",
      "cell_type": "code",
      "metadata": {
        "id": "6a9e0fff"
      },
      "execution_count": null,
      "source": [
        "#@title Build / Load FAISS index\n",
        "from sentence_transformers import SentenceTransformer\n",
        "import faiss, numpy as np\n",
        "\n",
        "embedder = SentenceTransformer(EMBED_MODEL_NAME)\n",
        "embs = embedder.encode(\n",
        "    texts,\n",
        "    batch_size=256,          # adjust down if OOM\n",
        "    convert_to_numpy=True,\n",
        "    normalize_embeddings=True,\n",
        "    show_progress_bar=True\n",
        ")\n",
        "\n",
        "index = faiss.IndexFlatIP(embs.shape[1])\n",
        "index.add(embs)\n",
        "print('FAISS index size:', index.ntotal)\n",
        "\n",
        "# Store minimal store (texts + metadata)\n",
        "texts = [c.page_content for c in chunks]\n",
        "metas = [c.metadata for c in chunks]\n"
      ],
      "outputs": []
    },
    {
      "id": "1dd2c29b",
      "cell_type": "markdown",
      "source": [
        "## 5) Retriever"
      ],
      "metadata": {
        "id": "1dd2c29b"
      }
    },
    {
      "id": "3980fcba",
      "cell_type": "code",
      "metadata": {
        "id": "3980fcba"
      },
      "execution_count": null,
      "source": [
        "#@title Define retriever (similarity search)\n",
        "import numpy as np\n",
        "\n",
        "def retrieve(query, k=6):\n",
        "    q = embedder.encode([query], convert_to_numpy=True, normalize_embeddings=True)\n",
        "    D, I = index.search(q, k)\n",
        "    ctxs = [(texts[i], metas[i]) for i in I[0]]\n",
        "    return ctxs\n",
        "\n",
        "# quick test\n",
        "print(len(retrieve(\"sepsis hour-1 bundle\", k=3)))\n"
      ],
      "outputs": []
    },
    {
      "id": "af0fbce5",
      "cell_type": "markdown",
      "source": [
        "## 6) LLM (llama-cpp) — local"
      ],
      "metadata": {
        "id": "af0fbce5"
      }
    },
    {
      "id": "15a35fd9",
      "cell_type": "code",
      "metadata": {
        "id": "15a35fd9"
      },
      "execution_count": null,
      "source": [
        "#@title Load llama-cpp (provide GGUF path above)\n",
        "from llama_cpp import Llama\n",
        "llm = Llama(model_path=LLAMA_MODEL_PATH, n_gpu_layers=50, n_ctx=4096, n_threads=4, verbose=False)\n",
        "\n"
      ],
      "outputs": []
    },
    {
      "id": "e2b670f2",
      "cell_type": "markdown",
      "source": [
        "## 7) Prompt Templates"
      ],
      "metadata": {
        "id": "e2b670f2"
      }
    },
    {
      "id": "06e51f61",
      "cell_type": "code",
      "metadata": {
        "id": "06e51f61"
      },
      "execution_count": null,
      "source": [
        "#@title Prompts (baseline, engineered, RAG)\n",
        "BASELINE_SYS = \"\"\"You are a careful clinical assistant. If unsure, say so and ask for clarification. Do not fabricate.\n",
        "Educational use only — not medical advice.\n",
        "\"\"\"\n",
        "\n",
        "ENGINEERED_SYS = \"\"\"You are an ICU attending. Answer concisely in bullets and include a short ‘Rationale’. If evidence is insufficient, state that explicitly.\n",
        "Return JSON with fields: answer, rationale, red_flags.\n",
        "\"\"\"\n",
        "\n",
        "RAG_SYS = \"\"\"You are a clinical assistant. Answer ONLY using the provided CONTEXT.\n",
        "- If the context is insufficient, say \"Insufficient context\" and request what is missing.\n",
        "- Cite chunk IDs like [C1], [C2] from the given CONTEXT.\n",
        "Educational use only — not medical advice.\n",
        "\"\"\"\n",
        "\n",
        "USER_QS = [\n",
        "    \"What is the protocol for managing sepsis in a critical care unit?\",\n",
        "    \"What are the common symptoms of appendicitis, and can it be cured via medicine? If not, what surgical procedure should be followed to treat it?\",\n",
        "    \"What are treatments and possible causes for sudden patchy hair loss (localized bald spots on scalp)?\",\n",
        "    \"What treatments are recommended for a person with brain tissue injury (TBI) causing temporary or permanent impairment?\"\n",
        "]\n"
      ],
      "outputs": []
    },
    {
      "id": "d4120d44",
      "cell_type": "markdown",
      "source": [
        "## 8) Generation utilities"
      ],
      "metadata": {
        "id": "d4120d44"
      }
    },
    {
      "id": "8ee6d03e",
      "cell_type": "code",
      "metadata": {
        "id": "8ee6d03e"
      },
      "execution_count": null,
      "source": [
        "#@title Generation helpers\n",
        "from textwrap import shorten\n",
        "\n",
        "def chat(llm, system, user, temperature=0.2, top_p=0.95, max_tokens=1024, top_k=40):\n",
        "    prompt = f\"<s>[INST]<<SYS>>\\n{system}\\n<</SYS>>\\n{user}[/INST]\"\n",
        "    out = llm(prompt, temperature=temperature, top_p=top_p, max_tokens=max_tokens, top_k=top_k)\n",
        "    return out[\"choices\"][0][\"text\"].strip()\n",
        "\n",
        "# RAG\n",
        "def answer_with_rag(question, k=6, temperature=0.2):\n",
        "    ctxs = retrieve(question, k=k)\n",
        "    ctx_text = \"\\n\\n\".join([f\"[C{i+1}] {shorten(t[:1200], width=1200)}\" for i,(t,_) in enumerate(ctxs)])\n",
        "    user = f\"CONTEXT:\\n{ctx_text}\\n\\nQUESTION: {question}\\n\\nAnswer with citations [C#].\"\n",
        "    return chat(llm, RAG_SYS, user, temperature=temperature)\n"
      ],
      "outputs": []
    },
    {
      "id": "57b1e1a8",
      "cell_type": "markdown",
      "source": [
        "## 9) Baseline & Prompt‑Engineered QA (5+ variants)"
      ],
      "metadata": {
        "id": "57b1e1a8"
      }
    },
    {
      "id": "ca6ef614",
      "cell_type": "code",
      "metadata": {
        "id": "ca6ef614"
      },
      "execution_count": null,
      "source": [
        "#@title Fast + Optimized Baselines & Prompt Sweeps (with final pass)\n",
        "import itertools, time\n",
        "\n",
        "# ---------- TUNABLES ----------\n",
        "# Fast \"sweep\" on just 1 question to pick params quickly\n",
        "QUESTIONS_FOR_SWEEP = [USER_QS[0]]   # only sepsis; add USER_QS[1] if you want 2\n",
        "# Keep combos small for speed (3 combos is enough to pick a winner)\n",
        "PARAM_GRID = {\n",
        "    'temperature': [0.0, 0.2],\n",
        "    'top_p': [0.9, 1.0],\n",
        "    'top_k': [20, 40]\n",
        "}\n",
        "COMBOS = list(itertools.product(PARAM_GRID['temperature'], PARAM_GRID['top_p'], PARAM_GRID['top_k']))[:3]\n",
        "\n",
        "# Shorter output during sweep; long output only in final pass\n",
        "SWEEP_MAX_TOKENS = 200\n",
        "FINAL_MAX_TOKENS = 700   # reduce from 1024 to speed up; increase if you truly need longer answers\n",
        "\n",
        "# Add stop tokens to end early when the answer is complete\n",
        "STOP_TOKENS = [\"</s>\", \"###\", \"\\n\\n\\n\"]\n",
        "\n",
        "# ---------- HELPER ----------\n",
        "def chat_fast(llm, system, user, temperature=0.2, top_p=0.95, top_k=40, max_tokens=256):\n",
        "    prompt = f\"<s>[INST]<<SYS>>\\n{system}\\n<</SYS>>\\n{user}[/INST]\"\n",
        "    out = llm(\n",
        "        prompt,\n",
        "        temperature=temperature,\n",
        "        top_p=top_p,\n",
        "        top_k=top_k,\n",
        "        max_tokens=max_tokens,\n",
        "        stop=STOP_TOKENS\n",
        "    )\n",
        "    return out[\"choices\"][0][\"text\"].strip()\n",
        "\n",
        "runs = []\n",
        "\n",
        "# ---------- 1) FAST SWEEP (small outputs, 1 question) ----------\n",
        "print(\"=== FAST SWEEP START ===\")\n",
        "best_combo = None\n",
        "best_score = -1.0\n",
        "\n",
        "for q in QUESTIONS_FOR_SWEEP:\n",
        "    # Baseline (short)\n",
        "    t0 = time.time()\n",
        "    out = chat_fast(llm, BASELINE_SYS, q, temperature=0.2, max_tokens=SWEEP_MAX_TOKENS)\n",
        "    dt = time.time() - t0\n",
        "    print(f\"[baseline] '{q[:28]}...' took {dt:.1f}s\")\n",
        "    runs.append({\"mode\":\"baseline_sweep\",\"q\":q,\"params\":{\"temperature\":0.2,\"max_tokens\":SWEEP_MAX_TOKENS},\"answer\":out})\n",
        "\n",
        "    # Prompt-engineered short sweeps\n",
        "    for (t,tp,tk) in COMBOS:\n",
        "        t0 = time.time()\n",
        "        out = chat_fast(llm, ENGINEERED_SYS, q, temperature=t, top_p=tp, top_k=tk, max_tokens=SWEEP_MAX_TOKENS)\n",
        "        dt = time.time() - t0\n",
        "        print(f\"[engineered] t={t}, tp={tp}, tk={tk} took {dt:.1f}s\")\n",
        "\n",
        "        # Simple heuristic score: longer (but capped) and contains bullets or rationale keywords\n",
        "        # (You’ll replace with your real evaluation later)\n",
        "        score = (0.5 if (\"•\" in out or \"-\" in out) else 0.0) + min(len(out), SWEEP_MAX_TOKENS)/SWEEP_MAX_TOKENS*0.5\n",
        "        if score > best_score:\n",
        "            best_score = score\n",
        "            best_combo = {\"temperature\": t, \"top_p\": tp, \"top_k\": tk}\n",
        "        runs.append({\"mode\":\"engineered_sweep\",\"q\":q,\"params\":{\"temperature\":t,\"top_p\":tp,\"top_k\":tk,\"max_tokens\":SWEEP_MAX_TOKENS},\"answer\":out})\n",
        "\n",
        "print(\"Best combo from sweep:\", best_combo, \"score:\", round(best_score,3))\n",
        "print(\"=== FAST SWEEP END ===\\n\")\n",
        "\n",
        "# ---------- 2) FINAL PASS (all 4 questions, chosen params, longer but capped outputs) ----------\n",
        "print(\"=== FINAL PASS START ===\")\n",
        "final_params = best_combo if best_combo else {\"temperature\":0.2, \"top_p\":0.95, \"top_k\":40}\n",
        "\n",
        "# Baseline (once for all questions)\n",
        "for q in USER_QS:\n",
        "    t0 = time.time()\n",
        "    out = chat_fast(llm, BASELINE_SYS, q, temperature=0.2, top_p=0.95, top_k=40, max_tokens=FINAL_MAX_TOKENS)\n",
        "    print(f\"[final-baseline] '{q[:28]}...' took {time.time()-t0:.1f}s\")\n",
        "    runs.append({\"mode\":\"baseline_final\",\"q\":q,\"params\":{\"temperature\":0.2,\"top_p\":0.95,\"top_k\":40,\"max_tokens\":FINAL_MAX_TOKENS},\"answer\":out})\n",
        "\n",
        "# Engineered (best combo)\n",
        "for q in USER_QS:\n",
        "    t0 = time.time()\n",
        "    out = chat_fast(llm, ENGINEERED_SYS, q, **final_params, max_tokens=FINAL_MAX_TOKENS)\n",
        "    print(f\"[final-engineered] '{q[:28]}...' took {time.time()-t0:.1f}s\")\n",
        "    runs.append({\"mode\":\"engineered_final\",\"q\":q,\"params\":{**final_params,\"max_tokens\":FINAL_MAX_TOKENS},\"answer\":out})\n",
        "\n",
        "print(\"=== FINAL PASS END ===\")\n",
        "\n",
        "len(runs)\n"
      ],
      "outputs": []
    },
    {
      "id": "ae251fc4",
      "cell_type": "markdown",
      "source": [
        "## 10) RAG QA"
      ],
      "metadata": {
        "id": "ae251fc4"
      }
    },
    {
      "id": "6606b449",
      "cell_type": "code",
      "metadata": {
        "id": "6606b449"
      },
      "execution_count": null,
      "source": [
        "#@title Run RAG answers\n",
        "for q in USER_QS:\n",
        "    ans = answer_with_rag(q, k=6, temperature=0.2)\n",
        "    runs.append({\"mode\":\"rag\",\"q\":q,\"params\":{\"k\":6,\"temperature\":0.2},\"answer\":ans})\n",
        "\n",
        "len(runs)\n"
      ],
      "outputs": []
    },
    {
      "id": "8feefc29",
      "cell_type": "markdown",
      "source": [
        "## 11) Evaluation — Groundedness, Relevance, Context Precision"
      ],
      "metadata": {
        "id": "8feefc29"
      }
    },
    {
      "id": "cb9ee343",
      "cell_type": "code",
      "metadata": {
        "id": "cb9ee343"
      },
      "execution_count": null,
      "source": [
        "#@title Simple automatic rubric (embedding similarity)\n",
        "import numpy as np\n",
        "\n",
        "def cosine(a,b):\n",
        "    return float(np.dot(a,b) / (np.linalg.norm(a)*np.linalg.norm(b) + 1e-8))\n",
        "\n",
        "# Groundedness: max similarity between answer and its retrieved context chunks (proxy)\n",
        "# Relevance: similarity between answer and question\n",
        "# Context precision: average similarity of retrieved chunks to the question (for RAG)\n",
        "\n",
        "def embed_text(t: str):\n",
        "    return embedder.encode([t], convert_to_numpy=True, normalize_embeddings=True)[0]\n",
        "\n",
        "question_vecs = {q: embed_text(q) for q in USER_QS}\n",
        "\n",
        "evals = []\n",
        "for r in runs:\n",
        "    q = r['q']\n",
        "    ans = r['answer']\n",
        "    ans_vec = embed_text(ans)\n",
        "    rel = cosine(ans_vec, question_vecs[q])\n",
        "    grounded = None\n",
        "    ctx_prec = None\n",
        "    if r['mode'] == 'rag':\n",
        "        ctxs = retrieve(q, k=6)\n",
        "        ctx_vecs = [embed_text(t) for t,_ in ctxs]\n",
        "        grounded = max(cosine(ans_vec, v) for v in ctx_vecs)\n",
        "        ctx_prec = float(np.mean([cosine(question_vecs[q], v) for v in ctx_vecs]))\n",
        "    evals.append({**r, 'metrics': {'relevance': rel, 'groundedness': grounded, 'context_precision': ctx_prec}})\n",
        "\n",
        "len(evals)\n"
      ],
      "outputs": []
    },
    {
      "id": "c59183c7",
      "cell_type": "markdown",
      "source": [
        "## 12) Display & Export"
      ],
      "metadata": {
        "id": "c59183c7"
      }
    },
    {
      "id": "2bb327f8",
      "cell_type": "code",
      "metadata": {
        "id": "2bb327f8"
      },
      "execution_count": null,
      "source": [
        "#@title 🧼➡️📄➡️⬇️ Clean notebook (widget-safe) + Export HTML (lab) + Download\n",
        "SRC_PATH = \"/content/Medical_Assistant_RAG_FullCode_Starter.ipynb\"  # change if your filename differs\n",
        "OUT_HTML = \"/content/Medical_Assistant_RAG_Submission.html\"\n",
        "\n",
        "import nbformat as nbf\n",
        "from pathlib import Path\n",
        "from google.colab import files\n",
        "import subprocess, shlex\n",
        "\n",
        "src = Path(SRC_PATH)\n",
        "assert src.exists(), f\"Notebook not found at {src}. Use File > Download .ipynb, then upload to /content.\"\n",
        "\n",
        "clean = src.with_name(src.stem + \"_CLEAN.ipynb\")\n",
        "nb = nbf.read(str(src), as_version=4)\n",
        "\n",
        "# remove all widget traces\n",
        "nb.metadata.pop(\"widgets\", None)\n",
        "WIDGET_VIEW  = \"application/vnd.jupyter.widget-view+json\"\n",
        "WIDGET_STATE = \"application/vnd.jupyter.widget-state+json\"\n",
        "for c in nb.cells:\n",
        "    c.metadata.pop(\"widgets\", None)\n",
        "    if \"outputs\" in c:\n",
        "        for o in c[\"outputs\"]:\n",
        "            if isinstance(o, dict) and \"data\" in o:\n",
        "                o[\"data\"].pop(WIDGET_VIEW, None)\n",
        "                o[\"data\"].pop(WIDGET_STATE, None)\n",
        "\n",
        "nbf.write(nb, str(clean))\n",
        "print(\"Cleaned →\", clean)\n",
        "\n",
        "# Try lab template (nicer); if it fails, fallback to basic\n",
        "cmd = f'jupyter nbconvert --to html --template=lab --no-input \"{clean}\" --output \"{OUT_HTML}\"'\n",
        "print(\"[RUN]\", cmd)\n",
        "rc = subprocess.call(cmd, shell=True)\n",
        "if rc != 0:\n",
        "    cmd2 = f'jupyter nbconvert --to html --template=basic --no-input \"{clean}\" --output \"{OUT_HTML}\"'\n",
        "    print(\"[FALLBACK]\", cmd2)\n",
        "    rc2 = subprocess.call(cmd2, shell=True)\n",
        "    if rc2 != 0:\n",
        "        raise RuntimeError(\"nbconvert failed. Use Colab menu: File > Download > .html\")\n",
        "\n",
        "print(\"HTML ready at:\", OUT_HTML)\n",
        "files.download(OUT_HTML)\n"
      ],
      "outputs": []
    },
    {
      "id": "0ce8ba21",
      "cell_type": "markdown",
      "source": [
        "### HTML Export (for submission)"
      ],
      "metadata": {
        "id": "0ce8ba21"
      }
    },
    {
      "id": "8ea00f3d",
      "cell_type": "code",
      "metadata": {
        "id": "8ea00f3d"
      },
      "execution_count": null,
      "source": [
        "# Clean -> Export HTML (lab template, code hidden) -> Download\n",
        "import nbformat as nbf\n",
        "from pathlib import Path\n",
        "from google.colab import files\n",
        "import subprocess, shlex\n",
        "\n",
        "SRC_PATH = \"/content/Medical_Assistant_RAG_FullCode_Starter.ipynb\"   # adjust if needed\n",
        "OUT_HTML = \"/content/Medical_Assistant_RAG_Submission.html\"\n",
        "\n",
        "src = Path(SRC_PATH); clean = src.with_name(src.stem + \"_CLEAN.ipynb\")\n",
        "nb = nbf.read(str(src), as_version=4)\n",
        "\n",
        "# Strip ipywidgets metadata that breaks nbconvert\n",
        "nb.metadata.pop(\"widgets\", None)\n",
        "WV=\"application/vnd.jupyter.widget-view+json\"; WS=\"application/vnd.jupyter.widget-state+json\"\n",
        "for c in nb.cells:\n",
        "    c.metadata.pop(\"widgets\", None)\n",
        "    if \"outputs\" in c:\n",
        "        for o in c[\"outputs\"]:\n",
        "            if isinstance(o, dict) and \"data\" in o:\n",
        "                o[\"data\"].pop(WV, None); o[\"data\"].pop(WS, None)\n",
        "nbf.write(nb, str(clean))\n",
        "print(\"Cleaned →\", clean)\n",
        "\n",
        "# Pretty export (hides code); fallback to basic if lab fails\n",
        "rc = subprocess.call(f'jupyter nbconvert --to html --template=lab --no-input \"{clean}\" --output \"{OUT_HTML}\"', shell=True)\n",
        "if rc != 0:\n",
        "    subprocess.check_call(f'jupyter nbconvert --to html --template=basic --no-input \"{clean}\" --output \"{OUT_HTML}\"', shell=True)\n",
        "\n",
        "print(\"HTML ready:\", OUT_HTML)\n",
        "files.download(OUT_HTML)\n"
      ],
      "outputs": []
    },
    {
      "cell_type": "code",
      "source": [
        "from google.colab import drive\n",
        "drive.mount('/content/drive')"
      ],
      "metadata": {
        "id": "o0BbN_eg45ql"
      },
      "id": "o0BbN_eg45ql",
      "execution_count": null,
      "outputs": []
    },
    {
      "id": "47c23a54",
      "cell_type": "markdown",
      "source": [
        "## Notes & Citations\n",
        "- Merck Manual (Professional Edition): Sepsis & Septic Shock; Appendicitis; Alopecia Areata; Traumatic Brain Injury.\n",
        "- Surviving Sepsis Campaign (SCCM) Adult Guidelines (Hour‑1 Bundle), 2021.\n"
      ],
      "metadata": {
        "id": "47c23a54"
      }
    }
  ]
}